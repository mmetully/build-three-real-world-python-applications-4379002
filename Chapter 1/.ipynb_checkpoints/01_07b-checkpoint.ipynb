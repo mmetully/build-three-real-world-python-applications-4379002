{
 "cells": [
  {
   "cell_type": "markdown",
   "id": "bc565dcb",
   "metadata": {},
   "source": [
    "# Scraping Wisdom Pet Medicine Website"
   ]
  },
  {
   "cell_type": "markdown",
   "id": "8c027b17",
   "metadata": {},
   "source": [
    "### Imports- **Run First**"
   ]
  },
  {
   "cell_type": "code",
   "execution_count": null,
   "id": "b7d60b59",
   "metadata": {},
   "outputs": [],
   "source": [
    "#import requests packages\n",
    "import requests"
   ]
  },
  {
   "cell_type": "code",
   "execution_count": null,
   "id": "6dfa25ec",
   "metadata": {},
   "outputs": [],
   "source": [
    "#scrape data from Wisdom Pet Medicine website and save to response variable\n",
    "response = requests.get('http://www.wisdompetmed.com/')"
   ]
  },
  {
   "cell_type": "markdown",
   "id": "125b6611",
   "metadata": {},
   "source": [
    "### How to retrieve web page information"
   ]
  },
  {
   "cell_type": "code",
   "execution_count": null,
   "id": "d3ab118d",
   "metadata": {
    "scrolled": true
   },
   "outputs": [],
   "source": [
    "#retrieve url of Wisdom Pet Medicine website\n"
   ]
  },
  {
   "cell_type": "code",
   "execution_count": null,
   "id": "4c5bc690",
   "metadata": {},
   "outputs": [],
   "source": [
    "# retrieve status code of Wisdom Pet Medicine website\n"
   ]
  },
  {
   "cell_type": "code",
   "execution_count": null,
   "id": "3c654237",
   "metadata": {},
   "outputs": [],
   "source": [
    "# retrieve headers of Wisdom Pet Medicine website\n"
   ]
  }
 ],
 "metadata": {
  "kernelspec": {
   "display_name": "Python 3 (ipykernel)",
   "language": "python",
   "name": "python3"
  },
  "language_info": {
   "codemirror_mode": {
    "name": "ipython",
    "version": 3
   },
   "file_extension": ".py",
   "mimetype": "text/x-python",
   "name": "python",
   "nbconvert_exporter": "python",
   "pygments_lexer": "ipython3",
   "version": "3.10.4"
  }
 },
 "nbformat": 4,
 "nbformat_minor": 5
}
