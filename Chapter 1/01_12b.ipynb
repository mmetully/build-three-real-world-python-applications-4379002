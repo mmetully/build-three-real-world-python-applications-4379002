{
 "cells": [
  {
   "cell_type": "markdown",
   "id": "7d036996",
   "metadata": {},
   "source": [
    "# Scraping Wisdom Pet Medicine Website"
   ]
  },
  {
   "cell_type": "markdown",
   "id": "5410818b",
   "metadata": {},
   "source": [
    "### Imports- **Run First**"
   ]
  },
  {
   "cell_type": "code",
   "execution_count": 1,
   "id": "1b79ea59",
   "metadata": {},
   "outputs": [],
   "source": [
    "#import requests packages\n",
    "import requests"
   ]
  },
  {
   "cell_type": "code",
   "execution_count": 2,
   "id": "7b317bba",
   "metadata": {},
   "outputs": [],
   "source": [
    "#scrape data from Wisdom Pet Medicine website and save to response variable\n",
    "response = requests.get('http://www.wisdompetmed.com/')"
   ]
  },
  {
   "cell_type": "code",
   "execution_count": 3,
   "id": "eb0cf932",
   "metadata": {},
   "outputs": [],
   "source": [
    "#import BeautifulSoup package\n",
    "from bs4 import BeautifulSoup"
   ]
  },
  {
   "cell_type": "code",
   "execution_count": 4,
   "id": "2e54db5a",
   "metadata": {},
   "outputs": [],
   "source": [
    "#Bring in the HTML code to BeautifulSoup\n",
    "soup = BeautifulSoup(response.text)"
   ]
  },
  {
   "cell_type": "markdown",
   "id": "33c542eb",
   "metadata": {},
   "source": [
    "### How to retrieve web page links"
   ]
  },
  {
   "cell_type": "code",
   "execution_count": 5,
   "id": "a7f84c3a",
   "metadata": {
    "tags": []
   },
   "outputs": [],
   "source": [
    "#find all links on the Wisdom Pet Medicine website\n",
    "links = soup.find_all(\"a\")"
   ]
  },
  {
   "cell_type": "code",
   "execution_count": 7,
   "id": "0782f478-8dcb-48c0-bcfc-2a5352ef388f",
   "metadata": {},
   "outputs": [
    {
     "name": "stdout",
     "output_type": "stream",
     "text": [
      "Wisdom Pet Medicine #featured\n",
      "Home #featured\n",
      "Mission #mission\n",
      "Services #services\n",
      "Staff #staff\n",
      "Testimonials #testimonials\n",
      "\n",
      "\n",
      " #featured\n",
      "\n",
      "\n",
      " #featured\n",
      "Lynda.com http://lynda.com\n",
      "Terms of use #\n",
      "Privacy policy #\n"
     ]
    }
   ],
   "source": [
    "for link in links:\n",
    "    print(link.text, link.get('href'))"
   ]
  },
  {
   "cell_type": "code",
   "execution_count": null,
   "id": "efcb9bbf-ad95-4fcd-82d5-a9d5fa5f6e8d",
   "metadata": {},
   "outputs": [],
   "source": []
  }
 ],
 "metadata": {
  "kernelspec": {
   "display_name": "Python 3 (ipykernel)",
   "language": "python",
   "name": "python3"
  },
  "language_info": {
   "codemirror_mode": {
    "name": "ipython",
    "version": 3
   },
   "file_extension": ".py",
   "mimetype": "text/x-python",
   "name": "python",
   "nbconvert_exporter": "python",
   "pygments_lexer": "ipython3",
   "version": "3.10.13"
  }
 },
 "nbformat": 4,
 "nbformat_minor": 5
}
