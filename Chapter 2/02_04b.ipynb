{
 "cells": [
  {
   "cell_type": "markdown",
   "id": "be746905",
   "metadata": {},
   "source": [
    "# Exploring Alpha Vantage API"
   ]
  },
  {
   "cell_type": "markdown",
   "id": "83fa6458",
   "metadata": {},
   "source": [
    "### How to use an API key"
   ]
  },
  {
   "cell_type": "code",
   "execution_count": 1,
   "id": "edfdcd60",
   "metadata": {
    "tags": []
   },
   "outputs": [],
   "source": [
    "#open text file with the example API key\n",
    "with open (\"API_key_example.txt\") as file:\n",
    "    API_key_example = file.read()"
   ]
  },
  {
   "cell_type": "markdown",
   "id": "499f661c-3ea9-47a9-b9ad-a5e2ca7afc5f",
   "metadata": {},
   "source": [
    "### "
   ]
  },
  {
   "cell_type": "code",
   "execution_count": 2,
   "id": "090fb6d7",
   "metadata": {
    "tags": []
   },
   "outputs": [
    {
     "data": {
      "text/plain": [
       "'LINKEDINLEARNING  \\n\\n'"
      ]
     },
     "execution_count": 2,
     "metadata": {},
     "output_type": "execute_result"
    }
   ],
   "source": [
    "#print example API key\n",
    "API_key_example"
   ]
  },
  {
   "cell_type": "code",
   "execution_count": 3,
   "id": "9fa9c1c9",
   "metadata": {
    "tags": []
   },
   "outputs": [],
   "source": [
    "#strip the text of the example API key to get rid of spaces and newline characters\n",
    "API_key_example = API_key_example.strip()"
   ]
  },
  {
   "cell_type": "code",
   "execution_count": 4,
   "id": "b3af10be",
   "metadata": {
    "tags": []
   },
   "outputs": [
    {
     "name": "stdout",
     "output_type": "stream",
     "text": [
      "LINKEDINLEARNING\n"
     ]
    }
   ],
   "source": [
    "#print the stripped example API key\n",
    "print(API_key_example)"
   ]
  },
  {
   "cell_type": "code",
   "execution_count": 7,
   "id": "ad98031f",
   "metadata": {
    "tags": []
   },
   "outputs": [],
   "source": [
    "#open file with your personal API key\n",
    "with open (\"API_key.txt\") as file:\n",
    "    API_key = file.read().strip()"
   ]
  },
  {
   "cell_type": "code",
   "execution_count": 8,
   "id": "29ab010e-156f-4b48-acc9-58660463e26e",
   "metadata": {},
   "outputs": [
    {
     "data": {
      "text/plain": [
       "'0Y9DXIG5R3AQUGNL'"
      ]
     },
     "execution_count": 8,
     "metadata": {},
     "output_type": "execute_result"
    }
   ],
   "source": [
    "API_key"
   ]
  },
  {
   "cell_type": "code",
   "execution_count": null,
   "id": "1475f52e-7c99-4d26-b265-deb966b68cdd",
   "metadata": {},
   "outputs": [],
   "source": []
  }
 ],
 "metadata": {
  "kernelspec": {
   "display_name": "Python 3 (ipykernel)",
   "language": "python",
   "name": "python3"
  },
  "language_info": {
   "codemirror_mode": {
    "name": "ipython",
    "version": 3
   },
   "file_extension": ".py",
   "mimetype": "text/x-python",
   "name": "python",
   "nbconvert_exporter": "python",
   "pygments_lexer": "ipython3",
   "version": "3.10.13"
  }
 },
 "nbformat": 4,
 "nbformat_minor": 5
}
